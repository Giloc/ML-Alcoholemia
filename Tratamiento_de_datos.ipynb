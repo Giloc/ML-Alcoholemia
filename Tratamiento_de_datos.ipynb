{
  "nbformat": 4,
  "nbformat_minor": 0,
  "metadata": {
    "colab": {
      "provenance": [],
      "toc_visible": true
    },
    "kernelspec": {
      "name": "python3",
      "display_name": "Python 3"
    },
    "language_info": {
      "name": "python"
    }
  },
  "cells": [
    {
      "cell_type": "markdown",
      "source": [
        "# Organización de los datos del acelerómetro"
      ],
      "metadata": {
        "id": "tMEAWk9G-Fls"
      }
    },
    {
      "cell_type": "code",
      "source": [
        "import csv\n",
        "import numpy as np \n",
        "import pandas as pd\n",
        "\n",
        "def seperate_pid_data():\n",
        "\tacc_data = pd.read_csv(\"/content/drive/MyDrive/Colab Notebooks/Modelos/data/all_accelerometer_data_pids_13.csv\")\n",
        "\tpids = list(set(acc_data['pid']))\n",
        "\tfor pid in pids:\n",
        "\t\tdf = acc_data.loc[acc_data['pid'] == pid]\n",
        "\t\tdf.to_csv(\"/content/drive/MyDrive/Colab Notebooks/Modelos/data/clean acc/\" + str(pid) + \".csv\", encoding='utf-8')\n",
        "\t\tprint(str(pid)+\".csv created\")\n",
        "\tprint(pids)\n",
        "\n",
        "\treturn pids"
      ],
      "metadata": {
        "id": "icGFwTJf-MA_"
      },
      "execution_count": null,
      "outputs": []
    },
    {
      "cell_type": "code",
      "source": [
        "seperate_pid_data()"
      ],
      "metadata": {
        "id": "SeghXqmI-VK4"
      },
      "execution_count": null,
      "outputs": []
    },
    {
      "cell_type": "markdown",
      "source": [
        "# Agrupar lecturas del acelerómetro por segundo"
      ],
      "metadata": {
        "id": "GySWhv0s-nEX"
      }
    },
    {
      "cell_type": "code",
      "source": [
        "def createLecturesPerSecond(maxNumber, file, test = False, testNumber = 1):\n",
        "  acc = pd.read_csv(file)\n",
        "  counter = 0\n",
        "  prevSec = acc.iloc[0]\n",
        "  prevSec = prevSec['time'] // 1000  #pasarlo a segundos\n",
        "  accSecTemp = list()\n",
        "  accSec = list()\n",
        "  rows = len(acc) if test == False else testNumber\n",
        "\n",
        "  for i in range(0, rows):\n",
        "    sample = acc.iloc[i]\n",
        "    currSec = sample['time']//1000  #esta en milisegundos, pa pasarlo a segundos\n",
        "\n",
        "    if i != 0:\n",
        "      prevSec = acc.loc[i-1, 'time']//1000 #pasarlo a segundos\n",
        "\n",
        "    if currSec == prevSec and counter < maxNumber:\n",
        "      accSecTemp.append([sample['time']//1000, sample['x'], sample['y'], sample['z']])\n",
        "      counter += 1\n",
        "      if counter == maxNumber:\n",
        "        accSec.append(np.array(accSecTemp))\n",
        "        accSecTemp.clear()\n",
        "    \n",
        "    elif currSec > prevSec:\n",
        "      accSecTemp.clear()\n",
        "      accSecTemp.append([sample['time']//1000, sample['x'], sample['y'], sample['z']])\n",
        "      counter = 1\n",
        "  \n",
        "  accSec = np.array(accSec)\n",
        "  np.set_printoptions(formatter={'all':lambda x: str(x)})\n",
        "  return accSec"
      ],
      "metadata": {
        "id": "brVQFPih-ysy"
      },
      "execution_count": null,
      "outputs": []
    },
    {
      "cell_type": "markdown",
      "source": [
        "# Creación de la ventana de tiempo"
      ],
      "metadata": {
        "id": "RRGV9cmt-6Yy"
      }
    },
    {
      "cell_type": "code",
      "source": [
        "import pickle\n",
        "def createWindow(size, lecturesPerSecond, fileName, testeo = False, rowsNumber = 0):\n",
        "  lectPerSec = createLecturesPerSecond(maxNumber=lecturesPerSecond, file=fileName, test=testeo, testNumber=rowsNumber)\n",
        "  tempWindow = list()\n",
        "  window = list()\n",
        "  rows = len(lectPerSec)\n",
        "  i = 0\n",
        "  while i + size < rows:\n",
        "    if int(lectPerSec[i + size - 1][0][0]) == int(lectPerSec[i][0][0]) + size - 1:\n",
        "      print(\"entra\")\n",
        "      for j in range(i, i + size):\n",
        "        for k in range(0, len(lectPerSec[j])):\n",
        "          tempWindow.append(lectPerSec[j][k])\n",
        "      window.append(np.array(tempWindow))\n",
        "      tempWindow.clear()\n",
        "    i+=1\n",
        "  window = np.array(window)\n",
        "  filename = \"/content/drive/MyDrive/Colab Notebooks/Modelos/data/pickles/\" + str(fileName.split('/')[-1].split('.')[0]) +  \".pkl\"\n",
        "  outfile = open(filename, 'wb')\n",
        "  pickle.dump(window, outfile)\n",
        "  outfile.close()\n",
        "  return window"
      ],
      "metadata": {
        "id": "Ob4p_rEy_AwG"
      },
      "execution_count": null,
      "outputs": []
    },
    {
      "cell_type": "code",
      "source": [
        "pids = ['BU4707', 'PC6771', 'JB3156', 'JR8022', 'DK3500', 'BK7610', 'HV0618', 'MJ8002', 'DC6359', 'CC6740', 'SF3079', 'MC7070', 'SA0297']\n",
        "for pid in pids:\n",
        "  file = \"/content/drive/MyDrive/Colab Notebooks/Modelos/data/clean acc/\" + pid + \".csv\"\n",
        "  createWindow(10, 20, file)"
      ],
      "metadata": {
        "id": "A3U3eQOy_R21"
      },
      "execution_count": null,
      "outputs": []
    },
    {
      "cell_type": "markdown",
      "source": [
        "# Categorización de las etiquetas de salida"
      ],
      "metadata": {
        "id": "sqZht0qn_o4Q"
      }
    },
    {
      "cell_type": "code",
      "source": [
        "def getTACLabels(file, threshold = 0.08):\n",
        "  labels = list()\n",
        "  tac = pd.read_csv(file)\n",
        "\n",
        "  rows = len(tac)\n",
        "  for i in range(0, rows):\n",
        "    if tac.loc[i, 'TAC_Reading'] >= threshold:\n",
        "      labels.append(1)\n",
        "    else:\n",
        "      labels.append(0)\n",
        "  \n",
        "  tac['y'] = labels\n",
        "  del tac['TAC_Reading']\n",
        "  tac.to_csv(\"/content/drive/MyDrive/Colab Notebooks/Modelos/data/clean_tac/Labels/\" + str(file.split('/')[-1].split('.')[0]) + \"label.csv\")\n",
        "\n",
        "  return str(file.split('/')[-1].split('.')[0]) + \"label.csv\""
      ],
      "metadata": {
        "id": "eWdo2bf2_toZ"
      },
      "execution_count": null,
      "outputs": []
    },
    {
      "cell_type": "code",
      "source": [
        "for pid in pids:\n",
        "  getTACLabels(\"/content/drive/MyDrive/Colab Notebooks/Modelos/data/clean_tac/\" + pid + \"_clean_TAC.csv\")"
      ],
      "metadata": {
        "id": "mG4_jIK__021"
      },
      "execution_count": null,
      "outputs": []
    }
  ]
}